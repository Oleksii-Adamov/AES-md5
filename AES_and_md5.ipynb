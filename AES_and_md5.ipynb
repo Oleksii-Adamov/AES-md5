{
  "nbformat": 4,
  "nbformat_minor": 0,
  "metadata": {
    "colab": {
      "provenance": [],
      "collapsed_sections": [
        "6sxudp-t_0ZJ"
      ],
      "authorship_tag": "ABX9TyPr2av66/fkbhP6q8Tr9Krd",
      "include_colab_link": true
    },
    "kernelspec": {
      "name": "python3",
      "display_name": "Python 3"
    },
    "language_info": {
      "name": "python"
    }
  },
  "cells": [
    {
      "cell_type": "markdown",
      "metadata": {
        "id": "view-in-github",
        "colab_type": "text"
      },
      "source": [
        "<a href=\"https://colab.research.google.com/github/Oleksii-Adamov/AES-md5/blob/main/AES_and_md5.ipynb\" target=\"_parent\"><img src=\"https://colab.research.google.com/assets/colab-badge.svg\" alt=\"Open In Colab\"/></a>"
      ]
    },
    {
      "cell_type": "markdown",
      "source": [
        "#Imports"
      ],
      "metadata": {
        "id": "6sxudp-t_0ZJ"
      }
    },
    {
      "cell_type": "code",
      "source": [
        "!pip install bitarray\n",
        "!pip install pycryptodome"
      ],
      "metadata": {
        "id": "M40yPqPgVJNi",
        "colab": {
          "base_uri": "https://localhost:8080/"
        },
        "outputId": "7bfd205b-ee89-4bef-daf4-61660939d1fe"
      },
      "execution_count": null,
      "outputs": [
        {
          "output_type": "stream",
          "name": "stdout",
          "text": [
            "Looking in indexes: https://pypi.org/simple, https://us-python.pkg.dev/colab-wheels/public/simple/\n",
            "Requirement already satisfied: bitarray in /usr/local/lib/python3.10/dist-packages (2.7.4)\n",
            "Looking in indexes: https://pypi.org/simple, https://us-python.pkg.dev/colab-wheels/public/simple/\n",
            "Requirement already satisfied: pycryptodome in /usr/local/lib/python3.10/dist-packages (3.18.0)\n"
          ]
        }
      ]
    },
    {
      "cell_type": "code",
      "source": [
        "import hashlib\n",
        "import math\n",
        "from bitarray import bitarray\n",
        "from Crypto import Cipher\n",
        "import binascii\n",
        "import os\n",
        "import copy"
      ],
      "metadata": {
        "id": "_Vyzy2Y1INL8"
      },
      "execution_count": null,
      "outputs": []
    },
    {
      "cell_type": "markdown",
      "source": [
        "#MD5"
      ],
      "metadata": {
        "id": "CkSGl_l9_2pO"
      }
    },
    {
      "cell_type": "markdown",
      "source": [
        "MD5 - алгоритм хешування, який перетворює повідомлення(текст) будь-якої довжини у 128-бітне хеш представлення.\n",
        "Алгоритм полягає у таких кроках:\n",
        "1. Вирівнювання. До вхідної послідовністі бітів додається одиничний біт та нульові біти, поки загальна кількість бітів не стане дорівнювати 448 по модулю 512, причому біти додаються навіть якщо довжина повідомлення у бітах була кратна 512. Після цього додається 64 наймолодших біта бітового представлення довжини повідомлення до вирівнювання. Таким чином довжина повідомлення у бітах становиться кратною 512. \n",
        "2. Вводяться 32-бітні змінні-числа A,B,C,D з наперед заданими значеннями, та нелінійні функції:\n",
        "\n",
        "  $F(B,C,D)=(B ∧ C) \\vee (\\neg B ∧ D)$,\n",
        "\n",
        "  $G(B,C,D)=(B ∧ D) \\vee ( C ∧ \\neg D)$,\n",
        "\n",
        "  $H(B,C,D)=B ⊕ C ⊕ D$,\n",
        "\n",
        "  $I(B,C,D) = C ⊕ (B \\vee \\neg D)$.\n",
        "3. Оброблюємо вхідне повідомлення шматками по 512 бітів. Для кожного 512-бітного шматка: \n",
        " 1. Ініціалізуємо AA=A,BB=B,CC=C,DD=D.\n",
        " 2. Виконуємо 4 раунди по 16 однотипних операцій ($0\\leq i<4*16$):\n",
        "\n",
        "    $g = i$, якщо $i < 16$; $g = (5 * i + 1) % 16$, якщо $16 \\leq i < 32$; $g = (3 * i + 5) % 16$, якщо $32 \\leq i < 48$, $g = (7 * i) % 16$, якщо $48 <= i < 64$; \n",
        "\n",
        "    $f = (F_r(BB,CC,DD)+K[i]+M[g])<<<s[i]$, $F_r$ - це функція $F$ у першому раунді, $G$ - у другому, і так далі; $K$ - масив констант, $K[i] = floor(2^{32}*abs(sin(i+1)))$; $M[g] - g$-ий 32-бітний шматок опрацьовуємого 512-бітного шматка; $<<<$ - циклічний побітовий ссув вліво, $s$ - масив констант, які вказують на яку кількість бітів робити ссув;\n",
        "\n",
        "    AA = DD;\n",
        "\n",
        "    DD = CC;\n",
        "\n",
        "    CC = BB;\n",
        "\n",
        "    BB += $f$.\n",
        " 3. Оновлюємо змінні A += AA, B += BB, C += CC, D += DD.\n",
        " Додавання виконується по модулю 2^32.\n",
        "4. Результуючий 128-бітний хеш є конкатенацією 32-бітних представлень змінних A, B, C, D (менш значуші біти першими)."
      ],
      "metadata": {
        "id": "JouKgLz_lWKb"
      }
    },
    {
      "cell_type": "code",
      "source": [
        "circular_bitshift = lambda x, n: (x << n) | (x >> (32 - n))\n",
        "add_modulo_2_in_32 = lambda a, b: (a + b) % pow(2, 32)\n",
        "\n",
        "class Md5:\n",
        "    def __init__(self):\n",
        "        self.bits = None\n",
        "        self.text_in_bytes = None\n",
        "        self.s = [7, 12, 17, 22, 7, 12, 17, 22, 7, 12, 17, 22, 7, 12, 17, 22,\n",
        "         5, 9, 14, 20, 5, 9, 14, 20, 5, 9, 14, 20, 5, 9, 14, 20,\n",
        "         4, 11, 16, 23, 4, 11, 16, 23, 4, 11, 16, 23, 4, 11, 16, 23,\n",
        "         6, 10, 15, 21, 6, 10, 15, 21, 6, 10, 15, 21, 6, 10, 15, 21]\n",
        "        self.K = [math.floor(pow(2, 32) * abs(math.sin(i + 1))) for i in range(64)]\n",
        "    \n",
        "    def _padding(self):\n",
        "        self.bits.append(1)\n",
        "        while len(self.bits) % 512 != 448:\n",
        "            self.bits.append(0)\n",
        "        length_modulo = (len(self.text_in_bytes) * 8)\n",
        "        length_modulo_in_bytes = length_modulo.to_bytes(8, \"little\")\n",
        "        length_modulo_in_bits = bitarray(endian = \"big\")\n",
        "        length_modulo_in_bits.frombytes(length_modulo_in_bytes)\n",
        "        self.bits.extend(length_modulo_in_bits)\n",
        "    \n",
        "    def hash(self, text_in_bytes):\n",
        "        self.text_in_bytes = text_in_bytes\n",
        "        self.bits = bitarray()\n",
        "        self.bits.frombytes(text_in_bytes)\n",
        "        self._padding()\n",
        "        F = lambda b, c, d: (b & c) | (~b & d)\n",
        "        G = lambda b, c, d: (d & b) | (~d & c)\n",
        "        H = lambda b, c, d: b ^ c ^ d\n",
        "        I = lambda b, c, d: c ^ (b | ~d)\n",
        "        A = 0x67452301\n",
        "        B = 0xefcdab89\n",
        "        C = 0x98badcfe\n",
        "        D = 0x10325476\n",
        "        number_of_512bit_chunks = len(self.bits) // 512\n",
        "        for chunk_index in range(0, number_of_512bit_chunks):\n",
        "            start_index = chunk_index * 512\n",
        "            chunks_of_32bits = [self.bits[start_index + (x * 32) : start_index + (x * 32) + 32] for x in range(0, 16)]\n",
        "            chunks_of_32bits_as_integers = [int.from_bytes(chunk_of_32bits.tobytes(), byteorder=\"little\") for chunk_of_32bits in chunks_of_32bits]\n",
        "\n",
        "            AA = A\n",
        "            BB = B\n",
        "            CC = C\n",
        "            DD = D\n",
        "\n",
        "            for i in range(4 * 16):\n",
        "                if i < 16:\n",
        "                    g = i\n",
        "                    function_result = F(BB, CC, DD)\n",
        "                elif i < 32:\n",
        "                    g = (5 * i + 1) % 16\n",
        "                    function_result = G(BB, CC, DD)\n",
        "                elif i < 48:\n",
        "                    g = (3 * i + 5) % 16\n",
        "                    function_result = H(BB, CC, DD)\n",
        "                else:\n",
        "                    g = (7 * i) % 16\n",
        "                    function_result = I(BB, CC, DD)\n",
        "                \n",
        "                function_result = circular_bitshift(add_modulo_2_in_32(add_modulo_2_in_32(add_modulo_2_in_32(function_result, AA), self.K[i]), chunks_of_32bits_as_integers[g]), self.s[i])\n",
        "\n",
        "                AA = DD\n",
        "                DD = CC\n",
        "                CC = BB\n",
        "                BB = add_modulo_2_in_32(BB, function_result)\n",
        "\n",
        "            A = add_modulo_2_in_32(A, AA)\n",
        "            B = add_modulo_2_in_32(B, BB)\n",
        "            C = add_modulo_2_in_32(C, CC)\n",
        "            D = add_modulo_2_in_32(D, DD)\n",
        "\n",
        "        return b''.join([A.to_bytes(4, \"little\"), B.to_bytes(4, \"little\"), C.to_bytes(4, \"little\"), D.to_bytes(4, \"little\")])"
      ],
      "metadata": {
        "id": "H-175yHOVWTa"
      },
      "execution_count": null,
      "outputs": []
    },
    {
      "cell_type": "code",
      "source": [
        "md5 = Md5()\n",
        "md5.hash(b\"password\").hex()"
      ],
      "metadata": {
        "colab": {
          "base_uri": "https://localhost:8080/",
          "height": 36
        },
        "id": "veFC-RmjX04r",
        "outputId": "71d8e964-2d56-4335-e623-6f7f8d6f328d"
      },
      "execution_count": null,
      "outputs": [
        {
          "output_type": "execute_result",
          "data": {
            "text/plain": [
              "'5f4dcc3b5aa765d61d8327deb882cf99'"
            ],
            "application/vnd.google.colaboratory.intrinsic+json": {
              "type": "string"
            }
          },
          "metadata": {},
          "execution_count": 121
        }
      ]
    },
    {
      "cell_type": "markdown",
      "source": [
        "Звіримо з бібліотечним MD5"
      ],
      "metadata": {
        "id": "w3bIvZ1CRRpA"
      }
    },
    {
      "cell_type": "code",
      "source": [
        "hashlib.md5(b\"password\").hexdigest()"
      ],
      "metadata": {
        "colab": {
          "base_uri": "https://localhost:8080/",
          "height": 36
        },
        "id": "fIQgI7VuNjl6",
        "outputId": "d21b3ea1-df6b-4a4c-b2d2-5ec9b88fe6f3"
      },
      "execution_count": null,
      "outputs": [
        {
          "output_type": "execute_result",
          "data": {
            "text/plain": [
              "'5f4dcc3b5aa765d61d8327deb882cf99'"
            ],
            "application/vnd.google.colaboratory.intrinsic+json": {
              "type": "string"
            }
          },
          "metadata": {},
          "execution_count": 122
        }
      ]
    },
    {
      "cell_type": "markdown",
      "source": [
        "#AES"
      ],
      "metadata": {
        "id": "9fLzW9f4_6Rp"
      }
    },
    {
      "cell_type": "markdown",
      "source": [
        "Алгоритм AES шифрує блоки по 128 біт, за допомогою 128, 192, або 256-бітного ключа. Будемо використовувати 128-бітний ключ.\n",
        "Спочатку відбувається розгортання ключа, за допомогою якого з 128-бітного ключа $K$ отримується $R+1$ 128-бітних ключів ($R=10$(кількість раундів)), кожний з яких складається з 32-бітних слів $W_i,0 \\leq i \\leq 4R-1$ які отримаються за формулою:\n",
        "\n",
        " $W_i$ = $K_i$, якщо $i < N$;\n",
        "\n",
        " $W_i$ = $W_{i-N}\\oplus SubWord(RotWord(W_{i-1}))\\oplus rcon_{i/N}$, якщо $i \\geq N$ і $i\\equiv 0(mod N)$;\n",
        "\n",
        " $W_i$ = $W_{i-N}\\oplus SubWord(W_{i-1})$, якщо якщо $i \\geq N$, $N\\geq 6$ і $i\\equiv 4(mod N)$;\n",
        "\n",
        " $W_i$ = $W_{i-N}\\oplus W_{i-1}$, інакше.\n",
        "\n",
        " Де $N$ - кількість 32-бітних слів у ключі, $RotWord$ - циклічний ссув на один біт уліво, $SubWord$ - застосування S перетворення до кожного з байтів, $rcon_{i}$ - 32-бітна констатна для $i$-го раунду $rcon_{i} = [rc_i \\quad 00_{16} \\quad 00_{16} \\quad 00_{16}]$.\n",
        "\n",
        " Шифрування 128-бітного блока полягає у наступному:\n",
        " 1. По стовпчиках формується матриця 4x4 з байтів блоку.\n",
        " 2. $AddRoundKey$ (береться ключ 0-го раунду)\n",
        " 3. $R-1$ раундів операцій:\n",
        "\n",
        "    1. $SubBytes$\n",
        "\n",
        "    2. $ShiftRows$\n",
        "\n",
        "    3. $MixColumns$\n",
        "\n",
        "    4. $AddRoundKey$\n",
        " 4. Останній раунд, який складається з операцій:\n",
        "    1. $SubBytes$\n",
        "    2. $ShiftRows$\n",
        "    3. $AddRoundKey$\n",
        "\n",
        " Операція $AddRoundKey$ полягає у xor-і стану-матриці та ключа для цього раунду.\n",
        "\n",
        " Операція $SubBytes$ полягає у застосуванні S перетворення до кожного елементу матриці, це перетворення можна задати константним масивом.\n",
        "\n",
        " Операція $ShiftRows$ циклічно сдвигає байти у рядках матриці вліво, на 0 дле першого рядка, на 1 для другого, на 2 для третього та на 3 для четвертого рядка.\n",
        "\n",
        " Операція $MixColumns$ полягає у множенні кожного стовпчика матриці на певну константну матрицю зліва, причому операцію додавання замінює xor, а для операції множення біти трактуються як коефіцієнти полінома 7-го степеня, ці поліноми множаться по модулю незвідного полінома $x^8 + x^4 + x^3 + x + 1$.\n",
        " \n",
        "Блоки оброблюються якимось з режимів шифрування. Було обрано CBC (Cipher Block Chaining), у якому на кожному кроці виконується xor попереднього зашифрованого блоку та поточного ще не зашифрованого блоку, а для першого блоку виконується xor з вектором ініціалізації. Перед шифруванням блоків текст вирівнюється так, щоб його довжина була кратна 128 бітам. Використали алгоритм вирівнювання, у якому додаються байти, які представляють довжину вирівнювання, причому байти додаються навіть якщо початкова довжина була кратна 128 бітам.\n",
        "\n",
        "Дешуфрування тексту полягає у дешуфруванні 128-бітних блоків відповідно до режиму шифрування. Після чого видаляються біти вирівнювання.\n",
        "\n",
        "Алгоритм дешуфрування 128-бітного блоку полягає у використанні інверсних операцій у оберненому порядку:\n",
        " 1. По стовпчиках формується матриця 4x4 з байтів блоку.\n",
        " 2. $AddRoundKey$ (береться ключ останнього раунду)\n",
        "\n",
        "    $InvShiftRows$\n",
        "\n",
        "    $InvSubBytes$\n",
        " 3. $R-1$ раундів операцій (ключі у зворотному порядку):\n",
        "\n",
        "    1. $AddRoundKey$\n",
        "\n",
        "    2. $InvMixColumns$\n",
        "\n",
        "    3. $InvShiftRows$\n",
        "\n",
        "    4. $InvSubBytes$\n",
        " 4. $AddRoundKey$ (використовується ключ 0-го раунду).\n",
        "\n",
        " $InvSubBytes$ є застосуванням оберненого до S перетворення, і теж задається константим масивом.\n",
        "\n",
        " $InvShiftRows$ є тою самою, що і $ShiftRows$, тільки сдвиг відбувається вправо.\n",
        "\n",
        " $InvMixColumns$ є тою самою, що  $MixColumns$, тільки матриця інша."
      ],
      "metadata": {
        "id": "eVyKsGhmO0Bs"
      }
    },
    {
      "cell_type": "code",
      "source": [
        "def xor_bytes(a, b):\n",
        "    return bytes(i^j for i, j in zip(a, b))\n",
        "\n",
        "class AES:\n",
        "    def __init__(self):\n",
        "        self.key = None\n",
        "        self._expanded_key = None\n",
        "        self.number_of_rounds = 10\n",
        "        self._s = (\n",
        "            0x63, 0x7C, 0x77, 0x7B, 0xF2, 0x6B, 0x6F, 0xC5, 0x30, 0x01, 0x67, 0x2B, 0xFE, 0xD7, 0xAB, 0x76,\n",
        "            0xCA, 0x82, 0xC9, 0x7D, 0xFA, 0x59, 0x47, 0xF0, 0xAD, 0xD4, 0xA2, 0xAF, 0x9C, 0xA4, 0x72, 0xC0,\n",
        "            0xB7, 0xFD, 0x93, 0x26, 0x36, 0x3F, 0xF7, 0xCC, 0x34, 0xA5, 0xE5, 0xF1, 0x71, 0xD8, 0x31, 0x15,\n",
        "            0x04, 0xC7, 0x23, 0xC3, 0x18, 0x96, 0x05, 0x9A, 0x07, 0x12, 0x80, 0xE2, 0xEB, 0x27, 0xB2, 0x75,\n",
        "            0x09, 0x83, 0x2C, 0x1A, 0x1B, 0x6E, 0x5A, 0xA0, 0x52, 0x3B, 0xD6, 0xB3, 0x29, 0xE3, 0x2F, 0x84,\n",
        "            0x53, 0xD1, 0x00, 0xED, 0x20, 0xFC, 0xB1, 0x5B, 0x6A, 0xCB, 0xBE, 0x39, 0x4A, 0x4C, 0x58, 0xCF,\n",
        "            0xD0, 0xEF, 0xAA, 0xFB, 0x43, 0x4D, 0x33, 0x85, 0x45, 0xF9, 0x02, 0x7F, 0x50, 0x3C, 0x9F, 0xA8,\n",
        "            0x51, 0xA3, 0x40, 0x8F, 0x92, 0x9D, 0x38, 0xF5, 0xBC, 0xB6, 0xDA, 0x21, 0x10, 0xFF, 0xF3, 0xD2,\n",
        "            0xCD, 0x0C, 0x13, 0xEC, 0x5F, 0x97, 0x44, 0x17, 0xC4, 0xA7, 0x7E, 0x3D, 0x64, 0x5D, 0x19, 0x73,\n",
        "            0x60, 0x81, 0x4F, 0xDC, 0x22, 0x2A, 0x90, 0x88, 0x46, 0xEE, 0xB8, 0x14, 0xDE, 0x5E, 0x0B, 0xDB,\n",
        "            0xE0, 0x32, 0x3A, 0x0A, 0x49, 0x06, 0x24, 0x5C, 0xC2, 0xD3, 0xAC, 0x62, 0x91, 0x95, 0xE4, 0x79,\n",
        "            0xE7, 0xC8, 0x37, 0x6D, 0x8D, 0xD5, 0x4E, 0xA9, 0x6C, 0x56, 0xF4, 0xEA, 0x65, 0x7A, 0xAE, 0x08,\n",
        "            0xBA, 0x78, 0x25, 0x2E, 0x1C, 0xA6, 0xB4, 0xC6, 0xE8, 0xDD, 0x74, 0x1F, 0x4B, 0xBD, 0x8B, 0x8A,\n",
        "            0x70, 0x3E, 0xB5, 0x66, 0x48, 0x03, 0xF6, 0x0E, 0x61, 0x35, 0x57, 0xB9, 0x86, 0xC1, 0x1D, 0x9E,\n",
        "            0xE1, 0xF8, 0x98, 0x11, 0x69, 0xD9, 0x8E, 0x94, 0x9B, 0x1E, 0x87, 0xE9, 0xCE, 0x55, 0x28, 0xDF,\n",
        "            0x8C, 0xA1, 0x89, 0x0D, 0xBF, 0xE6, 0x42, 0x68, 0x41, 0x99, 0x2D, 0x0F, 0xB0, 0x54, 0xBB, 0x16,\n",
        "        )\n",
        "        self._inv_s = (\n",
        "            0x52, 0x09, 0x6A, 0xD5, 0x30, 0x36, 0xA5, 0x38, 0xBF, 0x40, 0xA3, 0x9E, 0x81, 0xF3, 0xD7, 0xFB,\n",
        "            0x7C, 0xE3, 0x39, 0x82, 0x9B, 0x2F, 0xFF, 0x87, 0x34, 0x8E, 0x43, 0x44, 0xC4, 0xDE, 0xE9, 0xCB,\n",
        "            0x54, 0x7B, 0x94, 0x32, 0xA6, 0xC2, 0x23, 0x3D, 0xEE, 0x4C, 0x95, 0x0B, 0x42, 0xFA, 0xC3, 0x4E,\n",
        "            0x08, 0x2E, 0xA1, 0x66, 0x28, 0xD9, 0x24, 0xB2, 0x76, 0x5B, 0xA2, 0x49, 0x6D, 0x8B, 0xD1, 0x25,\n",
        "            0x72, 0xF8, 0xF6, 0x64, 0x86, 0x68, 0x98, 0x16, 0xD4, 0xA4, 0x5C, 0xCC, 0x5D, 0x65, 0xB6, 0x92,\n",
        "            0x6C, 0x70, 0x48, 0x50, 0xFD, 0xED, 0xB9, 0xDA, 0x5E, 0x15, 0x46, 0x57, 0xA7, 0x8D, 0x9D, 0x84,\n",
        "            0x90, 0xD8, 0xAB, 0x00, 0x8C, 0xBC, 0xD3, 0x0A, 0xF7, 0xE4, 0x58, 0x05, 0xB8, 0xB3, 0x45, 0x06,\n",
        "            0xD0, 0x2C, 0x1E, 0x8F, 0xCA, 0x3F, 0x0F, 0x02, 0xC1, 0xAF, 0xBD, 0x03, 0x01, 0x13, 0x8A, 0x6B,\n",
        "            0x3A, 0x91, 0x11, 0x41, 0x4F, 0x67, 0xDC, 0xEA, 0x97, 0xF2, 0xCF, 0xCE, 0xF0, 0xB4, 0xE6, 0x73,\n",
        "            0x96, 0xAC, 0x74, 0x22, 0xE7, 0xAD, 0x35, 0x85, 0xE2, 0xF9, 0x37, 0xE8, 0x1C, 0x75, 0xDF, 0x6E,\n",
        "            0x47, 0xF1, 0x1A, 0x71, 0x1D, 0x29, 0xC5, 0x89, 0x6F, 0xB7, 0x62, 0x0E, 0xAA, 0x18, 0xBE, 0x1B,\n",
        "            0xFC, 0x56, 0x3E, 0x4B, 0xC6, 0xD2, 0x79, 0x20, 0x9A, 0xDB, 0xC0, 0xFE, 0x78, 0xCD, 0x5A, 0xF4,\n",
        "            0x1F, 0xDD, 0xA8, 0x33, 0x88, 0x07, 0xC7, 0x31, 0xB1, 0x12, 0x10, 0x59, 0x27, 0x80, 0xEC, 0x5F,\n",
        "            0x60, 0x51, 0x7F, 0xA9, 0x19, 0xB5, 0x4A, 0x0D, 0x2D, 0xE5, 0x7A, 0x9F, 0x93, 0xC9, 0x9C, 0xEF,\n",
        "            0xA0, 0xE0, 0x3B, 0x4D, 0xAE, 0x2A, 0xF5, 0xB0, 0xC8, 0xEB, 0xBB, 0x3C, 0x83, 0x53, 0x99, 0x61,\n",
        "            0x17, 0x2B, 0x04, 0x7E, 0xBA, 0x77, 0xD6, 0x26, 0xE1, 0x69, 0x14, 0x63, 0x55, 0x21, 0x0C, 0x7D\n",
        "        )\n",
        "        self._rc = (\n",
        "            0x00, 0x01, 0x02, 0x04, 0x08, 0x10, 0x20, 0x40,\n",
        "            0x80, 0x1B, 0x36, 0x6C, 0xD8, 0xAB, 0x4D, 0x9A,\n",
        "            0x2F, 0x5E, 0xBC, 0x63, 0xC6, 0x97, 0x35, 0x6A,\n",
        "            0xD4, 0xB3, 0x7D, 0xFA, 0xEF, 0xC5, 0x91, 0x39,\n",
        "        )\n",
        "    def _sub_bytes(self, matrix):\n",
        "        for i in range(4):\n",
        "            for j in range(4):\n",
        "                matrix[i][j] = self._s[matrix[i][j]]\n",
        "\n",
        "    def _inv_sub_bytes(self, matrix):\n",
        "        for i in range(4):\n",
        "            for j in range(4):\n",
        "                matrix[i][j] = self._inv_s[matrix[i][j]]\n",
        "\n",
        "    def _shift_rows(self, a):\n",
        "        a[0][1], a[1][1], a[2][1], a[3][1] = a[1][1], a[2][1], a[3][1], a[0][1]\n",
        "        a[0][2], a[1][2], a[2][2], a[3][2] = a[2][2], a[3][2], a[0][2], a[1][2]\n",
        "        a[0][3], a[1][3], a[2][3], a[3][3] = a[3][3], a[0][3], a[1][3], a[2][3]\n",
        "\n",
        "    def _inv_shift_rows(self, a):\n",
        "        a[0][1], a[1][1], a[2][1], a[3][1] = a[3][1], a[0][1], a[1][1], a[2][1]\n",
        "        a[0][2], a[1][2], a[2][2], a[3][2] = a[2][2], a[3][2], a[0][2], a[1][2]\n",
        "        a[0][3], a[1][3], a[2][3], a[3][3] = a[1][3], a[2][3], a[3][3], a[0][3]\n",
        "\n",
        "    def _mix_column_multiply(self, a, b):\n",
        "        p = 0x0;\n",
        "        for i in range(0, 8):\n",
        "            if ((b & 0x1) != 0x0):\n",
        "                p ^= a\n",
        "\n",
        "            high_bit_set = (a & 0x80) != 0x0\n",
        "            a <<= 1\n",
        "            if (high_bit_set):\n",
        "                a ^= 0x1B\n",
        "            b >>= 1\n",
        "\n",
        "        return p\n",
        "\n",
        "    def _mix_column(self, a):\n",
        "        a_copy = copy.deepcopy(a)\n",
        "        a[0] = (self._mix_column_multiply(0x02, a_copy[0]) ^ self._mix_column_multiply(0x03, a_copy[1]) ^ a_copy[2] ^ a_copy[3]) % 256\n",
        "        a[1] = (a_copy[0] ^ self._mix_column_multiply(0x02, a_copy[1]) ^ self._mix_column_multiply(0x03, a_copy[2]) ^ a_copy[3]) % 256\n",
        "        a[2] = (a_copy[0] ^ a_copy[1] ^ self._mix_column_multiply(0x02, a_copy[2]) ^ self._mix_column_multiply(0x03, a_copy[3])) % 256\n",
        "        a[3] = (self._mix_column_multiply(0x03, a_copy[0]) ^ a_copy[1] ^ a_copy[2] ^ self._mix_column_multiply(0x02, a_copy[3])) % 256\n",
        "\n",
        "\n",
        "    def _mix_columns(self, columns):\n",
        "        for i in range(4):\n",
        "            self._mix_column(columns[i])\n",
        "\n",
        "    def _inv_mix_column(self, a):\n",
        "        a_copy = copy.deepcopy(a)\n",
        "        a[0] = (self._mix_column_multiply(14, a_copy[0]) ^ self._mix_column_multiply(11, a_copy[1]) ^ self._mix_column_multiply(13, a_copy[2]) ^ self._mix_column_multiply(9, a_copy[3])) % 256\n",
        "        a[1] = (self._mix_column_multiply(9, a_copy[0]) ^ self._mix_column_multiply(14, a_copy[1]) ^ self._mix_column_multiply(11, a_copy[2]) ^ self._mix_column_multiply(13, a_copy[3])) % 256\n",
        "        a[2] = (self._mix_column_multiply(13, a_copy[0]) ^ self._mix_column_multiply(9, a_copy[1]) ^ self._mix_column_multiply(14, a_copy[2]) ^ self._mix_column_multiply(11, a_copy[3])) % 256\n",
        "        a[3] = (self._mix_column_multiply(11, a_copy[0]) ^ self._mix_column_multiply(13, a_copy[1]) ^ self._mix_column_multiply(9, a_copy[2]) ^ self._mix_column_multiply(14, a_copy[3])) % 256\n",
        "\n",
        "    def _inv_mix_columns(self, columns):\n",
        "        for i in range(4):\n",
        "            self._inv_mix_column(columns[i])\n",
        "\n",
        "    def _add_round_key(self, matrix, key_matrix):\n",
        "        for i in range(4):\n",
        "            for j in range(4):\n",
        "                matrix[i][j] ^= key_matrix[i][j]\n",
        "\n",
        "    def _bytes2matrix(self, text_bytes): # list of columns\n",
        "        return [list(text_bytes[i:i+4]) for i in range(0, len(text_bytes), 4)]\n",
        "\n",
        "    def _matrix2bytes(self, matrix):\n",
        "        l = []\n",
        "        for i in range(4):\n",
        "            for j in range(4):\n",
        "                l.append(matrix[i][j])\n",
        "        return bytes(l)\n",
        "\n",
        "    def _split_into_128bit_chuncks(self, text_bytes):\n",
        "        return [text_bytes[i:i+16] for i in range(0, len(text_bytes), 16)]\n",
        "\n",
        "    def _expand_key(self, key):\n",
        "        key_columns = self._bytes2matrix(key)\n",
        "        N = 4\n",
        "        i = 1\n",
        "        while len(key_columns) < (self.number_of_rounds + 1) * 4:\n",
        "            word = list(key_columns[-1])\n",
        "\n",
        "            if len(key_columns) % N == 0:\n",
        "                word.append(word.pop(0))\n",
        "                word = [self._s[b] for b in word]\n",
        "                word[0] ^= self._rc[i]\n",
        "                i += 1\n",
        "            elif N > 6 and len(key_columns) % N == 4:\n",
        "                word = [self._s[b] for b in word]\n",
        "\n",
        "            word = xor_bytes(word, key_columns[-N])\n",
        "            key_columns.append(word)\n",
        "\n",
        "        self._expanded_key = [key_columns[4*i : 4*(i+1)] for i in range(len(key_columns) // 4)]\n",
        "\n",
        "    def _encrypt_128bit(self, text_bytes):\n",
        "        matrix = self._bytes2matrix(text_bytes)\n",
        "\n",
        "        self._add_round_key(matrix, self._expanded_key[0])\n",
        "\n",
        "        for i in range(1, self.number_of_rounds):\n",
        "            self._sub_bytes(matrix)\n",
        "            self._shift_rows(matrix)\n",
        "            self._mix_columns(matrix)\n",
        "            self._add_round_key(matrix, self._expanded_key[i])\n",
        "\n",
        "        self._sub_bytes(matrix)\n",
        "        self._shift_rows(matrix)\n",
        "        self._add_round_key(matrix, self._expanded_key[-1])\n",
        "        \n",
        "        return self._matrix2bytes(matrix)\n",
        "\n",
        "    def _decrypt_128bit(self, text_bytes):\n",
        "        matrix = self._bytes2matrix(text_bytes)\n",
        "\n",
        "        self._add_round_key(matrix, self._expanded_key[-1])\n",
        "        self._inv_shift_rows(matrix)\n",
        "        self._inv_sub_bytes(matrix)\n",
        "\n",
        "        for i in range(self.number_of_rounds - 1, 0, -1):\n",
        "            self._add_round_key(matrix, self._expanded_key[i])\n",
        "            self._inv_mix_columns(matrix)\n",
        "            self._inv_shift_rows(matrix)\n",
        "            self._inv_sub_bytes(matrix)\n",
        "\n",
        "        self._add_round_key(matrix, self._expanded_key[0])\n",
        "\n",
        "        return self._matrix2bytes(matrix)\n",
        "\n",
        "    def _pad(self, text_bytes):\n",
        "        padding_len = 16 - (len(text_bytes) % 16)\n",
        "        padding = bytes([padding_len] * padding_len)\n",
        "        return text_bytes + padding\n",
        "    \n",
        "    def _unpad(self, text_bytes):\n",
        "        padding_len = text_bytes[-1]\n",
        "        message, padding = text_bytes[:-padding_len], text_bytes[-padding_len:]\n",
        "        return message\n",
        "\n",
        "    def set_key_with_password(self, password):\n",
        "        # using my own written md5 hash \n",
        "        md5 = Md5()\n",
        "        self.key = md5.hash(bytes(password, encoding = 'ascii'))\n",
        "        self._expand_key(self.key)\n",
        "    \n",
        "    # CBC mode\n",
        "    def encrypt(self, text_bytes, iv):  \n",
        "        if self.key is None:\n",
        "            print(\"Key isn't set\")\n",
        "            return None\n",
        "        text_bytes = self._pad(text_bytes)\n",
        "        previous = iv\n",
        "        encrypted_chunks = []\n",
        "        for chunk in self._split_into_128bit_chuncks(text_bytes):\n",
        "                encrypted_chunk = self._encrypt_128bit(xor_bytes(chunk, previous))\n",
        "                encrypted_chunks.append(encrypted_chunk)\n",
        "                previous = encrypted_chunk\n",
        "        return b''.join(encrypted_chunks)\n",
        "\n",
        "    # CBC mode\n",
        "    def decrypt(self, text_bytes, iv):\n",
        "        decrypted_chunks = []\n",
        "        previous = iv\n",
        "        for chunk in self._split_into_128bit_chuncks(text_bytes):\n",
        "            decrypted_chunks.append(xor_bytes(previous, self._decrypt_128bit(chunk)))\n",
        "            previous = chunk\n",
        "\n",
        "        return self._unpad(b''.join(decrypted_chunks))"
      ],
      "metadata": {
        "id": "cKZ-dDcIAu8c"
      },
      "execution_count": null,
      "outputs": []
    },
    {
      "cell_type": "code",
      "source": [
        "iv = os.urandom(16)"
      ],
      "metadata": {
        "id": "U0-euzWQbjVA"
      },
      "execution_count": null,
      "outputs": []
    },
    {
      "cell_type": "code",
      "source": [
        "aes = AES()\n",
        "aes.set_key_with_password(\"password\")\n",
        "encrypted = aes.encrypt(b\"hello\", iv)\n",
        "print(encrypted.hex())"
      ],
      "metadata": {
        "colab": {
          "base_uri": "https://localhost:8080/"
        },
        "id": "v3KyNofZFXME",
        "outputId": "916eb9e3-c402-4b89-b2c8-65e029e978f7"
      },
      "execution_count": null,
      "outputs": [
        {
          "output_type": "stream",
          "name": "stdout",
          "text": [
            "254bf2cdb487d2d7f044b405193b98c1\n"
          ]
        }
      ]
    },
    {
      "cell_type": "code",
      "source": [
        "aes.decrypt(encrypted, iv)"
      ],
      "metadata": {
        "colab": {
          "base_uri": "https://localhost:8080/"
        },
        "id": "_s69hUE8LTg8",
        "outputId": "90bf8998-f8fb-429a-b443-c9e51c50d067"
      },
      "execution_count": null,
      "outputs": [
        {
          "output_type": "execute_result",
          "data": {
            "text/plain": [
              "b'hello'"
            ]
          },
          "metadata": {},
          "execution_count": 132
        }
      ]
    },
    {
      "cell_type": "markdown",
      "source": [
        "Звіримо з бібліотечним AES"
      ],
      "metadata": {
        "id": "NawK4drGRJYW"
      }
    },
    {
      "cell_type": "code",
      "source": [
        "from Crypto.Cipher import AES\n",
        "from Crypto.Util.Padding import pad"
      ],
      "metadata": {
        "id": "eTP9qiWQd_th"
      },
      "execution_count": null,
      "outputs": []
    },
    {
      "cell_type": "code",
      "source": [
        "key = md5.hash(b\"password\")\n",
        "lib_aes = AES.new(key, AES.MODE_CBC, IV=iv)\n",
        "lib_aes.encrypt(pad(b\"hello\", AES.block_size)).hex()"
      ],
      "metadata": {
        "colab": {
          "base_uri": "https://localhost:8080/",
          "height": 36
        },
        "id": "aSMzgTeHatk2",
        "outputId": "ebb7a4a6-800b-42e8-f1bf-c1ed8146579a"
      },
      "execution_count": null,
      "outputs": [
        {
          "output_type": "execute_result",
          "data": {
            "text/plain": [
              "'254bf2cdb487d2d7f044b405193b98c1'"
            ],
            "application/vnd.google.colaboratory.intrinsic+json": {
              "type": "string"
            }
          },
          "metadata": {},
          "execution_count": 134
        }
      ]
    }
  ]
}